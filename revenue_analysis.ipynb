{
 "cells": [
  {
   "cell_type": "markdown",
   "id": "0702e2ca",
   "metadata": {},
   "source": [
    "# CALCULATE THE TOTAL AMOUNT COLLECTED THROUGH CASH ON DELIVERY (COD) PAYMENTS"
   ]
  },
  {
   "cell_type": "code",
   "execution_count": 1,
   "id": "e072d6f3",
   "metadata": {},
   "outputs": [
    {
     "data": {
      "text/html": [
       "<div>\n",
       "<style scoped>\n",
       "    .dataframe tbody tr th:only-of-type {\n",
       "        vertical-align: middle;\n",
       "    }\n",
       "\n",
       "    .dataframe tbody tr th {\n",
       "        vertical-align: top;\n",
       "    }\n",
       "\n",
       "    .dataframe thead th {\n",
       "        text-align: right;\n",
       "    }\n",
       "</style>\n",
       "<table border=\"1\" class=\"dataframe\">\n",
       "  <thead>\n",
       "    <tr style=\"text-align: right;\">\n",
       "      <th></th>\n",
       "      <th>Unnamed: 0</th>\n",
       "      <th>Mã đơn hàng</th>\n",
       "      <th>Tình trạng thanh toán</th>\n",
       "      <th>Tổng tiền</th>\n",
       "      <th>Tổng cộng</th>\n",
       "      <th>Số lượng sản phẩm</th>\n",
       "      <th>Tên sản phẩm</th>\n",
       "      <th>Giá sản phẩm</th>\n",
       "      <th>Phương thức thanh toán</th>\n",
       "    </tr>\n",
       "  </thead>\n",
       "  <tbody>\n",
       "    <tr>\n",
       "      <th>0</th>\n",
       "      <td>0</td>\n",
       "      <td>#100069</td>\n",
       "      <td>Đã thanh toán</td>\n",
       "      <td>3600000</td>\n",
       "      <td>3600000</td>\n",
       "      <td>6</td>\n",
       "      <td>Pop 1</td>\n",
       "      <td>600000</td>\n",
       "      <td>Chuyển khoản qua ngân hàng</td>\n",
       "    </tr>\n",
       "    <tr>\n",
       "      <th>1</th>\n",
       "      <td>1</td>\n",
       "      <td>#100068</td>\n",
       "      <td>Chờ xử lý</td>\n",
       "      <td>10249200</td>\n",
       "      <td>10249200</td>\n",
       "      <td>6</td>\n",
       "      <td>EM2</td>\n",
       "      <td>584000</td>\n",
       "      <td>Chuyển khoản qua ngân hàng</td>\n",
       "    </tr>\n",
       "    <tr>\n",
       "      <th>2</th>\n",
       "      <td>2</td>\n",
       "      <td>#100068</td>\n",
       "      <td>Chờ xử lý</td>\n",
       "      <td>10249200</td>\n",
       "      <td>10249200</td>\n",
       "      <td>6</td>\n",
       "      <td>Pop 2</td>\n",
       "      <td>569400</td>\n",
       "      <td>Chuyển khoản qua ngân hàng</td>\n",
       "    </tr>\n",
       "    <tr>\n",
       "      <th>3</th>\n",
       "      <td>3</td>\n",
       "      <td>#100068</td>\n",
       "      <td>Chờ xử lý</td>\n",
       "      <td>10249200</td>\n",
       "      <td>10249200</td>\n",
       "      <td>6</td>\n",
       "      <td>Pop 3</td>\n",
       "      <td>554800</td>\n",
       "      <td>Chuyển khoản qua ngân hàng</td>\n",
       "    </tr>\n",
       "    <tr>\n",
       "      <th>4</th>\n",
       "      <td>4</td>\n",
       "      <td>#100067</td>\n",
       "      <td>Đã thanh toán</td>\n",
       "      <td>3420000</td>\n",
       "      <td>3420000</td>\n",
       "      <td>6</td>\n",
       "      <td>Pop 3</td>\n",
       "      <td>570000</td>\n",
       "      <td>Chuyển khoản qua ngân hàng</td>\n",
       "    </tr>\n",
       "  </tbody>\n",
       "</table>\n",
       "</div>"
      ],
      "text/plain": [
       "   Unnamed: 0 Mã đơn hàng Tình trạng thanh toán  Tổng tiền  Tổng cộng  \\\n",
       "0           0     #100069         Đã thanh toán    3600000    3600000   \n",
       "1           1     #100068             Chờ xử lý   10249200   10249200   \n",
       "2           2     #100068             Chờ xử lý   10249200   10249200   \n",
       "3           3     #100068             Chờ xử lý   10249200   10249200   \n",
       "4           4     #100067         Đã thanh toán    3420000    3420000   \n",
       "\n",
       "   Số lượng sản phẩm Tên sản phẩm  Giá sản phẩm      Phương thức thanh toán  \n",
       "0                  6        Pop 1        600000  Chuyển khoản qua ngân hàng  \n",
       "1                  6          EM2        584000  Chuyển khoản qua ngân hàng  \n",
       "2                  6        Pop 2        569400  Chuyển khoản qua ngân hàng  \n",
       "3                  6        Pop 3        554800  Chuyển khoản qua ngân hàng  \n",
       "4                  6        Pop 3        570000  Chuyển khoản qua ngân hàng  "
      ]
     },
     "execution_count": 1,
     "metadata": {},
     "output_type": "execute_result"
    }
   ],
   "source": [
    "import pandas as pd\n",
    "df = pd.read_csv(\"C:\\\\Users\\\\ADMIN\\\\Downloads\\\\order.csv\")\n",
    "df.head()"
   ]
  },
  {
   "cell_type": "code",
   "execution_count": 2,
   "id": "e9b16332",
   "metadata": {},
   "outputs": [
    {
     "data": {
      "text/plain": [
       "Index(['Unnamed: 0', 'Mã đơn hàng', 'Tình trạng thanh toán', 'Tổng tiền',\n",
       "       'Tổng cộng', 'Số lượng sản phẩm', 'Tên sản phẩm', 'Giá sản phẩm',\n",
       "       'Phương thức thanh toán'],\n",
       "      dtype='object')"
      ]
     },
     "execution_count": 2,
     "metadata": {},
     "output_type": "execute_result"
    }
   ],
   "source": [
    "df.columns"
   ]
  },
  {
   "cell_type": "code",
   "execution_count": 3,
   "id": "d312696c",
   "metadata": {},
   "outputs": [
    {
     "data": {
      "text/plain": [
       "array(['Chuyển khoản qua ngân hàng', 'Thanh toán khi giao hàng (COD)'],\n",
       "      dtype=object)"
      ]
     },
     "execution_count": 3,
     "metadata": {},
     "output_type": "execute_result"
    }
   ],
   "source": [
    "df['Phương thức thanh toán'].unique()"
   ]
  },
  {
   "cell_type": "code",
   "execution_count": 4,
   "id": "1b57c2a9",
   "metadata": {},
   "outputs": [
    {
     "data": {
      "text/plain": [
       "array(['Đã thanh toán', 'Chờ xử lý'], dtype=object)"
      ]
     },
     "execution_count": 4,
     "metadata": {},
     "output_type": "execute_result"
    }
   ],
   "source": [
    "df['Tình trạng thanh toán'].unique()"
   ]
  },
  {
   "cell_type": "code",
   "execution_count": 5,
   "id": "866a05ea",
   "metadata": {},
   "outputs": [
    {
     "data": {
      "text/plain": [
       "False"
      ]
     },
     "execution_count": 5,
     "metadata": {},
     "output_type": "execute_result"
    }
   ],
   "source": [
    "df['Mã đơn hàng'].nunique() == df.shape[0]"
   ]
  },
  {
   "cell_type": "code",
   "execution_count": 6,
   "id": "dc1e5e6e",
   "metadata": {},
   "outputs": [],
   "source": [
    "df['Revenue'] = df['Số lượng sản phẩm'] * df['Giá sản phẩm']"
   ]
  },
  {
   "cell_type": "code",
   "execution_count": 7,
   "id": "6ec21ea2",
   "metadata": {},
   "outputs": [],
   "source": [
    "df2 = df[((df['Tình trạng thanh toán'] == 'Đã thanh toán')\n",
    "    & (df['Phương thức thanh toán'] == 'Thanh toán khi giao hàng (COD)'))]"
   ]
  },
  {
   "cell_type": "code",
   "execution_count": 8,
   "id": "65d70076",
   "metadata": {},
   "outputs": [
    {
     "data": {
      "text/plain": [
       "17901000"
      ]
     },
     "execution_count": 8,
     "metadata": {},
     "output_type": "execute_result"
    }
   ],
   "source": [
    "df[((df['Tình trạng thanh toán'] == 'Đã thanh toán') & (df['Phương thức thanh toán'] == 'Thanh toán khi giao hàng (COD)'))]['Revenue'].sum()"
   ]
  },
  {
   "cell_type": "code",
   "execution_count": 9,
   "id": "5321993b",
   "metadata": {},
   "outputs": [
    {
     "data": {
      "text/plain": [
       "17901000"
      ]
     },
     "execution_count": 9,
     "metadata": {},
     "output_type": "execute_result"
    }
   ],
   "source": [
    "df[(df['Tình trạng thanh toán'].isin(['Đã thanh toán']))\n",
    "   & ((df['Phương thức thanh toán'].isin(['Thanh toán khi giao hàng (COD)'])))]['Revenue'].sum()"
   ]
  }
 ],
 "metadata": {
  "kernelspec": {
   "display_name": "Python 3 (ipykernel)",
   "language": "python",
   "name": "python3"
  },
  "language_info": {
   "codemirror_mode": {
    "name": "ipython",
    "version": 3
   },
   "file_extension": ".py",
   "mimetype": "text/x-python",
   "name": "python",
   "nbconvert_exporter": "python",
   "pygments_lexer": "ipython3",
   "version": "3.11.3"
  }
 },
 "nbformat": 4,
 "nbformat_minor": 5
}
